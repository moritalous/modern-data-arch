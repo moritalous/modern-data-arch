{
 "cells": [
  {
   "attachments": {},
   "cell_type": "markdown",
   "metadata": {},
   "source": [
    "## CDK 環境の構築"
   ]
  },
  {
   "attachments": {},
   "cell_type": "markdown",
   "metadata": {},
   "source": [
    "### Install AWS CLI"
   ]
  },
  {
   "cell_type": "code",
   "execution_count": null,
   "metadata": {},
   "outputs": [],
   "source": [
    "%%bash\n",
    "cd /tmp\n",
    "curl \"https://awscli.amazonaws.com/awscli-exe-linux-x86_64.zip\" -o \"awscliv2.zip\"\n",
    "unzip -oq awscliv2.zip\n",
    "sudo ./aws/install --update"
   ]
  },
  {
   "attachments": {},
   "cell_type": "markdown",
   "metadata": {},
   "source": [
    "### Install Node.js"
   ]
  },
  {
   "cell_type": "code",
   "execution_count": null,
   "metadata": {},
   "outputs": [],
   "source": [
    "%%bash\n",
    "cd /tmp\n",
    "curl -fsSL https://deb.nodesource.com/setup_lts.x | sudo -E bash - &&\\\n",
    "sudo apt install -y nodejs"
   ]
  },
  {
   "attachments": {},
   "cell_type": "markdown",
   "metadata": {},
   "source": [
    "### Install pnpm"
   ]
  },
  {
   "cell_type": "code",
   "execution_count": null,
   "metadata": {},
   "outputs": [],
   "source": [
    "%%bash\n",
    "sudo npm install -g pnpm\n",
    "pnpm setup\n",
    "source ~/.bashrc"
   ]
  },
  {
   "attachments": {},
   "cell_type": "markdown",
   "metadata": {},
   "source": [
    "### Install CDK"
   ]
  },
  {
   "cell_type": "code",
   "execution_count": null,
   "metadata": {},
   "outputs": [],
   "source": [
    "%%bash\n",
    "pnpm install -g aws-cdk"
   ]
  },
  {
   "attachments": {},
   "cell_type": "markdown",
   "metadata": {},
   "source": [
    "### CDK Bootstrap"
   ]
  },
  {
   "cell_type": "code",
   "execution_count": null,
   "metadata": {},
   "outputs": [],
   "source": [
    "%%bash\n",
    "cdk bootstrap"
   ]
  },
  {
   "attachments": {},
   "cell_type": "markdown",
   "metadata": {},
   "source": [
    "## CDK実行"
   ]
  },
  {
   "attachments": {},
   "cell_type": "markdown",
   "metadata": {},
   "source": [
    "### すべてデプロイ"
   ]
  },
  {
   "cell_type": "code",
   "execution_count": null,
   "metadata": {},
   "outputs": [],
   "source": [
    "%%bash\n",
    "pnpm run deploy"
   ]
  },
  {
   "attachments": {},
   "cell_type": "markdown",
   "metadata": {},
   "source": [
    "### 一部だけデプロイ"
   ]
  },
  {
   "cell_type": "code",
   "execution_count": null,
   "metadata": {},
   "outputs": [],
   "source": [
    "%%bash\n",
    "cdk list"
   ]
  },
  {
   "cell_type": "code",
   "execution_count": null,
   "metadata": {},
   "outputs": [],
   "source": [
    "%%bash\n",
    "cdk deploy ModerndataStack/glueStack --require-approval never"
   ]
  },
  {
   "attachments": {},
   "cell_type": "markdown",
   "metadata": {},
   "source": [
    "# ---"
   ]
  },
  {
   "attachments": {},
   "cell_type": "markdown",
   "metadata": {},
   "source": [
    "# もろもろ"
   ]
  },
  {
   "attachments": {},
   "cell_type": "markdown",
   "metadata": {},
   "source": [
    "## 変数初期化"
   ]
  },
  {
   "cell_type": "code",
   "execution_count": null,
   "metadata": {},
   "outputs": [],
   "source": [
    "%pip install boto3"
   ]
  },
  {
   "cell_type": "code",
   "execution_count": null,
   "metadata": {},
   "outputs": [],
   "source": [
    "import boto3\n",
    "\n",
    "sts_client = boto3.client(\"sts\")\n",
    "identity = sts_client.get_caller_identity()\n",
    "\n",
    "account = identity[\"Account\"]\n",
    "region = sts_client.meta.region_name\n",
    "\n",
    "print(f\"{account} - {region}\")"
   ]
  },
  {
   "attachments": {},
   "cell_type": "markdown",
   "metadata": {},
   "source": [
    "## LakeFormation設定"
   ]
  },
  {
   "attachments": {},
   "cell_type": "markdown",
   "metadata": {},
   "source": [
    "### Default permissions for newly created databases and tables\n",
    "\n",
    "権限がないと実行できません"
   ]
  },
  {
   "cell_type": "code",
   "execution_count": null,
   "metadata": {},
   "outputs": [],
   "source": [
    "import boto3\n",
    "\n",
    "lakeformation_client = boto3.client(\"lakeformation\")\n",
    "\n",
    "lakeformation_client.get_data_lake_settings()\n",
    "\n",
    "lakeformation_client.put_data_lake_settings(\n",
    "    CatalogId=account,\n",
    "    DataLakeSettings={\n",
    "        \"CreateDatabaseDefaultPermissions\": [],\n",
    "        \"CreateDatabaseDefaultPermissions\": [],\n",
    "    },\n",
    ")"
   ]
  },
  {
   "attachments": {},
   "cell_type": "markdown",
   "metadata": {},
   "source": [
    "### Data Filter"
   ]
  },
  {
   "attachments": {},
   "cell_type": "markdown",
   "metadata": {},
   "source": [
    "#### 作成"
   ]
  },
  {
   "cell_type": "code",
   "execution_count": null,
   "metadata": {},
   "outputs": [],
   "source": [
    "import boto3\n",
    "\n",
    "lakeformation_client = boto3.client(\"lakeformation\")\n",
    "\n",
    "lakeformation_client.list_data_cells_filter()\n",
    "\n",
    "filter_list = [\n",
    "    {\"Name\": \"only-jp\", \"Filter\": \"\\\"iso_code\\\" = 'JPN'\"},\n",
    "    {\"Name\": \"only-us\", \"Filter\": \"\\\"iso_code\\\" = 'USA'\"},\n",
    "    {\n",
    "        \"Name\": \"only-eu\",\n",
    "        \"Filter\": \"\\\"iso_code\\\" IN ('AUT','BEL','BGR','HRV','CYP','CZE','DNK','EST','FIN','FRA','DEU','GRC','HUN','IRL','ITA','LVA','LTU','LUX','MLT','NLD','POL','PRT','ROU','SVK','SVN','ESP')\",\n",
    "    },\n",
    "]\n",
    "\n",
    "for target in filter_list:\n",
    "    lakeformation_client.create_data_cells_filter(\n",
    "        TableData={\n",
    "            \"TableCatalogId\": account,\n",
    "            \"DatabaseName\": \"stage\",\n",
    "            \"TableName\": \"world_cases_deaths_testing\",\n",
    "            \"Name\": target[\"Name\"],\n",
    "            \"ColumnNames\": [],\n",
    "            \"ColumnWildcard\": {\"ExcludedColumnNames\": []},\n",
    "            \"RowFilter\": {\"FilterExpression\": target[\"Filter\"]},\n",
    "        }\n",
    "    )"
   ]
  },
  {
   "attachments": {},
   "cell_type": "markdown",
   "metadata": {},
   "source": [
    "#### 削除"
   ]
  },
  {
   "cell_type": "code",
   "execution_count": null,
   "metadata": {},
   "outputs": [],
   "source": [
    "import boto3\n",
    "\n",
    "lakeformation_client = boto3.client(\"lakeformation\")\n",
    "\n",
    "lakeformation_client.list_data_cells_filter()\n",
    "\n",
    "filter_list = [\"only-jp\", \"only-us\", \"only-eu\"]\n",
    "\n",
    "for target in filter_list:\n",
    "    try:\n",
    "        lakeformation_client.delete_data_cells_filter(\n",
    "            TableCatalogId=account,\n",
    "            DatabaseName=\"stage\",\n",
    "            TableName=\"world_cases_deaths_testing\",\n",
    "            Name=target,\n",
    "        )\n",
    "    except:\n",
    "        pass"
   ]
  },
  {
   "attachments": {},
   "cell_type": "markdown",
   "metadata": {},
   "source": [
    "## Permission"
   ]
  },
  {
   "attachments": {},
   "cell_type": "markdown",
   "metadata": {},
   "source": [
    "### IAM_ALLOWED_PRINCIPALSをRevoke"
   ]
  },
  {
   "cell_type": "code",
   "execution_count": null,
   "metadata": {},
   "outputs": [],
   "source": [
    "import boto3\n",
    "\n",
    "lakeformation_client = boto3.client(\"lakeformation\")\n",
    "\n",
    "permission_list = lakeformation_client.list_permissions()\n",
    "\n",
    "iam_allowed_principals_permission = list(\n",
    "    filter(\n",
    "        lambda x: x[\"Principal\"][\"DataLakePrincipalIdentifier\"]\n",
    "        == \"IAM_ALLOWED_PRINCIPALS\",\n",
    "        permission_list[\"PrincipalResourcePermissions\"],\n",
    "    )\n",
    ")\n",
    "\n",
    "for permission in iam_allowed_principals_permission:\n",
    "    lakeformation_client.revoke_permissions(\n",
    "        CatalogId=account,\n",
    "        Principal=permission[\"Principal\"],\n",
    "        Resource=permission[\"Resource\"],\n",
    "        Permissions=permission[\"Permissions\"],\n",
    "        PermissionsWithGrantOption=permission[\"PermissionsWithGrantOption\"],\n",
    "    )\n",
    "\n",
    "while \"NextToken\" in permission_list:\n",
    "    permission_list = lakeformation_client.list_permissions(\n",
    "        NextToken=permission_list[\"NextToken\"]\n",
    "    )\n",
    "\n",
    "    iam_allowed_principals_permission = list(\n",
    "        filter(\n",
    "            lambda x: x[\"Principal\"][\"DataLakePrincipalIdentifier\"]\n",
    "            == \"IAM_ALLOWED_PRINCIPALS\",\n",
    "            permission_list[\"PrincipalResourcePermissions\"],\n",
    "        )\n",
    "    )\n",
    "\n",
    "    for permission in iam_allowed_principals_permission:\n",
    "        lakeformation_client.revoke_permissions(\n",
    "            CatalogId=account,\n",
    "            Principal=permission[\"Principal\"],\n",
    "            Resource=permission[\"Resource\"],\n",
    "            Permissions=permission[\"Permissions\"],\n",
    "            PermissionsWithGrantOption=permission[\"PermissionsWithGrantOption\"],\n",
    "        )"
   ]
  },
  {
   "attachments": {},
   "cell_type": "markdown",
   "metadata": {},
   "source": [
    "### Stageデータベースに権限付与\n",
    "\n"
   ]
  },
  {
   "cell_type": "code",
   "execution_count": null,
   "metadata": {},
   "outputs": [],
   "source": [
    "import boto3\n",
    "\n",
    "lakeformation_client = boto3.client(\"lakeformation\")\n",
    "\n",
    "tables = [\"world_cases_deaths_testing\", \"countrycode\"]\n",
    "\n",
    "target_list = [\n",
    "  {'role_name': 'analyst-ja-role', 'data_cells_filter': 'only-jp'},\n",
    "  {'role_name': 'analyst-us-role', 'data_cells_filter': 'only-us'},\n",
    "  {'role_name': 'analyst-eu-role', 'data_cells_filter': 'only-eu'},\n",
    "  {'role_name': 'RedshiftRole-ja', 'data_cells_filter': 'only-jp'},\n",
    "  {'role_name': 'RedshiftRole-us', 'data_cells_filter': 'only-us'},\n",
    "  {'role_name': 'RedshiftRole-eu', 'data_cells_filter': 'only-eu'},\n",
    "  ]\n",
    "\n",
    "for target in target_list:\n",
    "  \n",
    "  lakeformation_client.grant_permissions(\n",
    "      CatalogId=account,\n",
    "      Principal={\n",
    "          \"DataLakePrincipalIdentifier\": f\"arn:aws:iam::{account}:role/{target['role_name']}\"\n",
    "      },\n",
    "      Resource={\n",
    "          \"DataCellsFilter\": {\n",
    "              \"DatabaseName\": \"stage\",\n",
    "              \"TableName\": \"world_cases_deaths_testing\",\n",
    "              \"Name\": f\"{target['data_cells_filter']}\",\n",
    "          },\n",
    "      },\n",
    "      Permissions=[\"SELECT\"],\n",
    "  )\n",
    "\n",
    "  lakeformation_client.grant_permissions(\n",
    "      CatalogId=account,\n",
    "      Principal={\n",
    "          \"DataLakePrincipalIdentifier\": f\"arn:aws:iam::{account}:role/{target['role_name']}\"\n",
    "      },\n",
    "      Resource={\n",
    "          \"Table\": {\"DatabaseName\": \"stage\", \"Name\": \"countrycode\"},\n",
    "      },\n",
    "      Permissions=[\"SELECT\"],\n",
    "  )\n"
   ]
  },
  {
   "attachments": {},
   "cell_type": "markdown",
   "metadata": {},
   "source": [
    "## Redshift"
   ]
  },
  {
   "attachments": {},
   "cell_type": "markdown",
   "metadata": {},
   "source": [
    "1. それぞれのユーザーにスイッチロールしてRedshiftクエリエディタV2にフェデレーションログインする。\n",
    "1. 管理者権限でRedshiftクエリエディタV2にログインし、SQLを実行"
   ]
  },
  {
   "attachments": {},
   "cell_type": "markdown",
   "metadata": {},
   "source": [
    "### スイッチロールURL"
   ]
  },
  {
   "cell_type": "code",
   "execution_count": null,
   "metadata": {},
   "outputs": [],
   "source": [
    "target_list = [\n",
    "    {'workgroup': 'ja', 'redshift_role': 'RedshiftRole-ja', 'iam_role': 'analyst-ja-role'},\n",
    "    {'workgroup': 'us', 'redshift_role': 'RedshiftRole-us', 'iam_role': 'analyst-us-role'},\n",
    "    {'workgroup': 'eu', 'redshift_role': 'RedshiftRole-eu', 'iam_role': 'analyst-eu-role'},\n",
    " ]\n",
    "\n",
    "for target in target_list:\n",
    "    print(f'''\n",
    "    https://signin.aws.amazon.com/switchrole?roleName={target['iam_role']}&account={account}\n",
    "    ''')\n",
    "\n",
    "\n",
    "print('''\n",
    "    クエリエディタV2\n",
    "    https://us-east-1.console.aws.amazon.com/sqlworkbench/home?region=us-east-1#/client\n",
    "''')\n"
   ]
  },
  {
   "attachments": {},
   "cell_type": "markdown",
   "metadata": {},
   "source": [
    "### SQL"
   ]
  },
  {
   "cell_type": "code",
   "execution_count": null,
   "metadata": {},
   "outputs": [],
   "source": [
    "\n",
    "target_list = [\n",
    "    {'workgroup': 'ja', 'redshift_role': 'RedshiftRole-ja', 'iam_role': 'analyst-ja-role'},\n",
    "    {'workgroup': 'us', 'redshift_role': 'RedshiftRole-us', 'iam_role': 'analyst-us-role'},\n",
    "    {'workgroup': 'eu', 'redshift_role': 'RedshiftRole-eu', 'iam_role': 'analyst-eu-role'},\n",
    " ]\n",
    "\n",
    "for target in target_list:\n",
    "\n",
    "  print(f'''\n",
    "  ---\n",
    "  workgroup-{target['workgroup']}\n",
    "  ---\n",
    "\n",
    "  create external schema datalake\n",
    "  from data catalog\n",
    "  database 'stage'\n",
    "  iam_role 'arn:aws:iam::{account}:role/{target['redshift_role']}'\n",
    "  region 'us-east-1';\n",
    "\n",
    "  select * from pg_user;\n",
    "  GRANT ALL ON DATABASE dev to \"IAMR:{target['iam_role']}\";\n",
    "  GRANT ALL ON SCHEMA \"datalake\" to \"IAMR:{target['iam_role']}\";\n",
    "\n",
    "  ''')\n",
    "      \n"
   ]
  },
  {
   "attachments": {},
   "cell_type": "markdown",
   "metadata": {},
   "source": []
  },
  {
   "attachments": {},
   "cell_type": "markdown",
   "metadata": {},
   "source": [
    "## SiteWiseのコールドストレージの設定"
   ]
  },
  {
   "attachments": {},
   "cell_type": "markdown",
   "metadata": {},
   "source": [
    "### 有効化"
   ]
  },
  {
   "cell_type": "code",
   "execution_count": null,
   "metadata": {},
   "outputs": [],
   "source": [
    "import boto3\n",
    "\n",
    "sitewise_client = boto3.client(\"iotsitewise\")\n",
    "\n",
    "sitewise_client.describe_storage_configuration()\n",
    "\n",
    "sitewise_client.put_storage_configuration(\n",
    "    storageType=\"MULTI_LAYER_STORAGE\",\n",
    "    multiLayerStorage={\n",
    "        \"customerManagedS3Storage\": {\n",
    "            \"s3ResourceArn\": f\"arn:aws:s3:::{account}-virginia-lakehouse-datalake-raw/iot-sitewise/\",\n",
    "            \"roleArn\": f\"arn:aws:iam::{account}:role/sitewise-storage-role\",\n",
    "        }\n",
    "    },\n",
    ")"
   ]
  },
  {
   "attachments": {},
   "cell_type": "markdown",
   "metadata": {},
   "source": [
    "### 無効化"
   ]
  },
  {
   "cell_type": "code",
   "execution_count": null,
   "metadata": {},
   "outputs": [],
   "source": [
    "import boto3\n",
    "\n",
    "sitewise_client = boto3.client(\"iotsitewise\")\n",
    "\n",
    "sitewise_client.describe_storage_configuration()\n",
    "\n",
    "sitewise_client.put_storage_configuration(\n",
    "    storageType=\"SITEWISE_DEFAULT_STORAGE\",\n",
    ")"
   ]
  },
  {
   "attachments": {},
   "cell_type": "markdown",
   "metadata": {},
   "source": [
    "## S3バケットのクリーンアップ"
   ]
  },
  {
   "attachments": {},
   "cell_type": "markdown",
   "metadata": {},
   "source": [
    "### バケットのバージョニングを無効化"
   ]
  },
  {
   "cell_type": "code",
   "execution_count": null,
   "metadata": {},
   "outputs": [],
   "source": [
    "import boto3\n",
    "\n",
    "target_bucket_list = {\n",
    "    \"s3BucketAudit\": f\"{account}-virginia-audit\",\n",
    "    \"athenaBucket\": f\"aws-athena-query-results-{account}-virginia\",\n",
    "    \"s3BucketRaw\": f\"{account}-virginia-lakehouse-datalake-raw\",\n",
    "    \"s3BucketStage\": f\"{account}-virginia-lakehouse-datalake-stage\",\n",
    "    \"s3BucketJob\": f\"aws-glue-assets-{account}-virginia\",\n",
    "}\n",
    "\n",
    "s3_client = boto3.client(\"s3\")\n",
    "\n",
    "bucket_list = s3_client.list_buckets()\n",
    "\n",
    "for bucket in bucket_list[\"Buckets\"]:\n",
    "    bucket_name = bucket[\"Name\"]\n",
    "\n",
    "    if bucket_name in list(target_bucket_list.values()):\n",
    "        bucket_versioning = s3_client.get_bucket_versioning(Bucket=bucket_name)\n",
    "\n",
    "        if \"Status\" in bucket_versioning.keys():\n",
    "            print(f'{bucket_name} - {bucket_versioning[\"Status\"]}')\n",
    "            s3_client.put_bucket_versioning(\n",
    "                Bucket=bucket_name, VersioningConfiguration={\"Status\": \"Suspended\"}\n",
    "            )\n",
    "            bucket_versioning_check = s3_client.get_bucket_versioning(\n",
    "                Bucket=bucket_name\n",
    "            )\n",
    "            print(f'{bucket_name} - {bucket_versioning_check[\"Status\"]}')"
   ]
  },
  {
   "attachments": {},
   "cell_type": "markdown",
   "metadata": {},
   "source": [
    "### バケット削除"
   ]
  },
  {
   "cell_type": "code",
   "execution_count": null,
   "metadata": {},
   "outputs": [],
   "source": [
    "%%bash\n",
    "identity=$(aws sts get-caller-identity)\n",
    "ACCOUNT=$(echo $identity | jq -r '.Account')\n",
    "REGION=$(aws configure get region)\n",
    "\n",
    "S3BUCKETAUDIT=${ACCOUNT}-virginia-audit\n",
    "S3BUCKETRAW=${ACCOUNT}-virginia-lakehouse-datalake-raw\n",
    "S3BUCKETSTAGE=${ACCOUNT}-virginia-lakehouse-datalake-stage\n",
    "S3ATHENABUCKET=aws-athena-query-results-${ACCOUNT}-virginia\n",
    "\n",
    "aws s3 rb --force s3://${S3BUCKETAUDIT}\n",
    "aws s3 rb --force s3://${S3BUCKETRAW}\n",
    "aws s3 rb --force s3://${S3BUCKETSTAGE}\n",
    "aws s3 rb --force s3://${S3ATHENABUCKET}\n"
   ]
  }
 ],
 "metadata": {
  "kernelspec": {
   "display_name": "Python 3",
   "language": "python",
   "name": "python3"
  },
  "language_info": {
   "codemirror_mode": {
    "name": "ipython",
    "version": 3
   },
   "file_extension": ".py",
   "mimetype": "text/x-python",
   "name": "python",
   "nbconvert_exporter": "python",
   "pygments_lexer": "ipython3",
   "version": "3.10.6"
  },
  "orig_nbformat": 4
 },
 "nbformat": 4,
 "nbformat_minor": 2
}
